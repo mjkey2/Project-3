{
 "cells": [
  {
   "cell_type": "code",
   "execution_count": 1,
   "id": "c05c7889",
   "metadata": {},
   "outputs": [],
   "source": [
    "from sqlalchemy import text\n",
    "import pandas as pd\n",
    "from sqlalchemy import create_engine"
   ]
  },
  {
   "cell_type": "code",
   "execution_count": 2,
   "id": "412ed490",
   "metadata": {},
   "outputs": [],
   "source": [
    "# Database credentials\n",
    "username = 'postgres'\n",
    "password = 'postgres'\n",
    "host = 'localhost'\n",
    "port = '5432'\n",
    "db_name = 'project3_db'"
   ]
  },
  {
   "cell_type": "code",
   "execution_count": 3,
   "id": "b10acee9",
   "metadata": {
    "scrolled": true
   },
   "outputs": [],
   "source": [
    "# Establishing a connection to the database\n",
    "engine = create_engine(f'postgresql://{username}:{password}@{host}:{port}/{db_name}')"
   ]
  },
  {
   "cell_type": "code",
   "execution_count": 4,
   "id": "2d1cd05d",
   "metadata": {},
   "outputs": [
    {
     "name": "stdout",
     "output_type": "stream",
     "text": [
      "<sqlalchemy.engine.cursor.CursorResult object at 0x0000023DF95498D0>\n"
     ]
    }
   ],
   "source": [
    "query = text(\"SELECT * FROM cleandata_table\")\n",
    "with engine.connect() as conn:\n",
    "    print(conn.execute(query))"
   ]
  },
  {
   "cell_type": "code",
   "execution_count": 5,
   "id": "6017a1f5",
   "metadata": {},
   "outputs": [
    {
     "name": "stdout",
     "output_type": "stream",
     "text": [
      "   id area_code  quarter  year  establishments  total_employed total_wages  \\\n",
      "0   1      1001        1  2020            1778           66384   238572054   \n",
      "1   2      1003        1  2020           13072          452026  1439657260   \n",
      "2   3      1005        1  2020            1128           49570   160195240   \n",
      "3   4      1007        1  2020             730           29156   110388552   \n",
      "4   5      1009        1  2020            1568           51336   152730444   \n",
      "\n",
      "  taxable_wage  average_weekly_wage  %chg_lq_estabishments  %chg_total_emp  \\\n",
      "0     97010816                 4319                   9.20        1.136000   \n",
      "1    749596298                 4103                   4.58        0.780000   \n",
      "2     80797450                 4011                  12.67        1.164000   \n",
      "3     48400892                 4670                  16.92        1.237333   \n",
      "4     72113324                 3616                   9.58        1.042667   \n",
      "\n",
      "   %chge_lq_total_qtrly_wages  %chge_lq_taxable_wages  %chge_avg_wkly_wage  \n",
      "0                       1.190                   0.452                1.024  \n",
      "1                       0.856                   0.624                1.094  \n",
      "2                       1.216                   0.626                1.052  \n",
      "3                       1.264                   0.680                1.036  \n",
      "4                       1.124                   0.796                1.034  \n"
     ]
    }
   ],
   "source": [
    "with engine.connect() as connection:\n",
    "    result = connection.execute(query)\n",
    "    df = pd.DataFrame(result.fetchall(), columns=result.keys())\n",
    "    print(df.head())"
   ]
  },
  {
   "cell_type": "code",
   "execution_count": 6,
   "id": "39f125b0",
   "metadata": {},
   "outputs": [],
   "source": [
    "# Formatting numeric columns for better readability\n",
    "df['total_employed'] = df['total_employed'].apply(lambda x: \"{:,}\".format(x))\n",
    "df['total_wages'] = df['total_wages'].apply(lambda x: \"{:,}\".format(x))\n",
    "df['taxable_wage'] = df['taxable_wage'].apply(lambda x: \"{:,}\".format(x))"
   ]
  },
  {
   "cell_type": "code",
   "execution_count": 7,
   "id": "045c1c02",
   "metadata": {},
   "outputs": [],
   "source": [
    "# Rename columns for clarity\n",
    "df.rename(columns={\n",
    "    '%chg_lq_estabishments': 'pct_change_lq_establishments',\n",
    "    '%chg_total_emp': 'pct_change_total_emp',\n",
    "    '%chge_lq_total_qtrly_wages': 'pct_change_lq_total_qtrly_wages',\n",
    "    '%chge_lq_taxable_wages': 'pct_change_lq_taxable_wages',\n",
    "    '%chge_avg_wkly_wage': 'pct_change_avg_weekly_wage'\n",
    "}, inplace=True)"
   ]
  },
  {
   "cell_type": "code",
   "execution_count": 8,
   "id": "cc419b77",
   "metadata": {},
   "outputs": [],
   "source": [
    "# Convert percentages from decimal to percentage format\n",
    "for col in ['pct_change_lq_establishments', 'pct_change_total_emp', \n",
    "            'pct_change_lq_total_qtrly_wages', 'pct_change_lq_taxable_wages', \n",
    "            'pct_change_avg_weekly_wage']:\n",
    "    df[col] = df[col].apply(lambda x: \"{:.2%}\".format(x))"
   ]
  },
  {
   "cell_type": "code",
   "execution_count": 9,
   "id": "d786991d",
   "metadata": {},
   "outputs": [
    {
     "name": "stdout",
     "output_type": "stream",
     "text": [
      "   id area_code  quarter  year  establishments total_employed    total_wages  \\\n",
      "0   1      1001        1  2020            1778         66,384    238,572,054   \n",
      "1   2      1003        1  2020           13072        452,026  1,439,657,260   \n",
      "2   3      1005        1  2020            1128         49,570    160,195,240   \n",
      "3   4      1007        1  2020             730         29,156    110,388,552   \n",
      "4   5      1009        1  2020            1568         51,336    152,730,444   \n",
      "\n",
      "  taxable_wage  average_weekly_wage pct_change_lq_establishments  \\\n",
      "0   97,010,816                 4319                      920.00%   \n",
      "1  749,596,298                 4103                      458.00%   \n",
      "2   80,797,450                 4011                     1267.00%   \n",
      "3   48,400,892                 4670                     1692.00%   \n",
      "4   72,113,324                 3616                      958.00%   \n",
      "\n",
      "  pct_change_total_emp pct_change_lq_total_qtrly_wages  \\\n",
      "0              113.60%                         119.00%   \n",
      "1               78.00%                          85.60%   \n",
      "2              116.40%                         121.60%   \n",
      "3              123.73%                         126.40%   \n",
      "4              104.27%                         112.40%   \n",
      "\n",
      "  pct_change_lq_taxable_wages pct_change_avg_weekly_wage  \n",
      "0                      45.20%                    102.40%  \n",
      "1                      62.40%                    109.40%  \n",
      "2                      62.60%                    105.20%  \n",
      "3                      68.00%                    103.60%  \n",
      "4                      79.60%                    103.40%  \n"
     ]
    }
   ],
   "source": [
    "# Display the cleaned DataFrame\n",
    "print(df.head())"
   ]
  },
  {
   "cell_type": "code",
   "execution_count": 10,
   "id": "8f6ab2e4",
   "metadata": {},
   "outputs": [],
   "source": [
    "# Export the DataFrame to a CSV file\n",
    "df.to_csv('exported_dataframe.csv', index=False, encoding='utf-8')"
   ]
  },
  {
   "cell_type": "code",
   "execution_count": null,
   "id": "eb9c32df",
   "metadata": {},
   "outputs": [],
   "source": []
  }
 ],
 "metadata": {
  "kernelspec": {
   "display_name": "Python 3 (ipykernel)",
   "language": "python",
   "name": "python3"
  },
  "language_info": {
   "codemirror_mode": {
    "name": "ipython",
    "version": 3
   },
   "file_extension": ".py",
   "mimetype": "text/x-python",
   "name": "python",
   "nbconvert_exporter": "python",
   "pygments_lexer": "ipython3",
   "version": "3.11.4"
  }
 },
 "nbformat": 4,
 "nbformat_minor": 5
}
